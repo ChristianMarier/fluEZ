{
  "nbformat": 4,
  "nbformat_minor": 0,
  "metadata": {
    "colab": {
      "provenance": []
    },
    "kernelspec": {
      "name": "python3",
      "display_name": "Python 3"
    },
    "language_info": {
      "name": "python"
    }
  },
  "cells": [
    {
      "cell_type": "code",
      "source": [
        "!pip install Bio\n",
        "!pip install py3Dmol\n",
        "#!pip install altair_viewer\n",
        "#!pip install altair_saver\n",
        "#!pip install vl-convert-python"
      ],
      "metadata": {
        "colab": {
          "base_uri": "https://localhost:8080/"
        },
        "id": "4lxALsL-Pd3s",
        "outputId": "1f949d02-037f-4cf3-e586-34f3cc492199"
      },
      "execution_count": null,
      "outputs": [
        {
          "output_type": "stream",
          "name": "stdout",
          "text": [
            "Collecting Bio\n",
            "  Downloading bio-1.7.1-py3-none-any.whl (280 kB)\n",
            "\u001b[2K     \u001b[90m━━━━━━━━━━━━━━━━━━━━━━━━━━━━━━━━━━━━━━━━\u001b[0m \u001b[32m281.0/281.0 kB\u001b[0m \u001b[31m2.4 MB/s\u001b[0m eta \u001b[36m0:00:00\u001b[0m\n",
            "\u001b[?25hCollecting biopython>=1.80 (from Bio)\n",
            "  Downloading biopython-1.83-cp310-cp310-manylinux_2_17_x86_64.manylinux2014_x86_64.whl (3.1 MB)\n",
            "\u001b[2K     \u001b[90m━━━━━━━━━━━━━━━━━━━━━━━━━━━━━━━━━━━━━━━━\u001b[0m \u001b[32m3.1/3.1 MB\u001b[0m \u001b[31m20.2 MB/s\u001b[0m eta \u001b[36m0:00:00\u001b[0m\n",
            "\u001b[?25hCollecting gprofiler-official (from Bio)\n",
            "  Downloading gprofiler_official-1.0.0-py3-none-any.whl (9.3 kB)\n",
            "Collecting mygene (from Bio)\n",
            "  Downloading mygene-3.2.2-py2.py3-none-any.whl (5.4 kB)\n",
            "Requirement already satisfied: pandas in /usr/local/lib/python3.10/dist-packages (from Bio) (2.0.3)\n",
            "Requirement already satisfied: pooch in /usr/local/lib/python3.10/dist-packages (from Bio) (1.8.2)\n",
            "Requirement already satisfied: requests in /usr/local/lib/python3.10/dist-packages (from Bio) (2.31.0)\n",
            "Requirement already satisfied: tqdm in /usr/local/lib/python3.10/dist-packages (from Bio) (4.66.4)\n",
            "Requirement already satisfied: numpy in /usr/local/lib/python3.10/dist-packages (from biopython>=1.80->Bio) (1.25.2)\n",
            "Collecting biothings-client>=0.2.6 (from mygene->Bio)\n",
            "  Downloading biothings_client-0.3.1-py2.py3-none-any.whl (29 kB)\n",
            "Requirement already satisfied: python-dateutil>=2.8.2 in /usr/local/lib/python3.10/dist-packages (from pandas->Bio) (2.8.2)\n",
            "Requirement already satisfied: pytz>=2020.1 in /usr/local/lib/python3.10/dist-packages (from pandas->Bio) (2023.4)\n",
            "Requirement already satisfied: tzdata>=2022.1 in /usr/local/lib/python3.10/dist-packages (from pandas->Bio) (2024.1)\n",
            "Requirement already satisfied: platformdirs>=2.5.0 in /usr/local/lib/python3.10/dist-packages (from pooch->Bio) (4.2.2)\n",
            "Requirement already satisfied: packaging>=20.0 in /usr/local/lib/python3.10/dist-packages (from pooch->Bio) (24.1)\n",
            "Requirement already satisfied: charset-normalizer<4,>=2 in /usr/local/lib/python3.10/dist-packages (from requests->Bio) (3.3.2)\n",
            "Requirement already satisfied: idna<4,>=2.5 in /usr/local/lib/python3.10/dist-packages (from requests->Bio) (3.7)\n",
            "Requirement already satisfied: urllib3<3,>=1.21.1 in /usr/local/lib/python3.10/dist-packages (from requests->Bio) (2.0.7)\n",
            "Requirement already satisfied: certifi>=2017.4.17 in /usr/local/lib/python3.10/dist-packages (from requests->Bio) (2024.6.2)\n",
            "Requirement already satisfied: six>=1.5 in /usr/local/lib/python3.10/dist-packages (from python-dateutil>=2.8.2->pandas->Bio) (1.16.0)\n",
            "Installing collected packages: biopython, gprofiler-official, biothings-client, mygene, Bio\n",
            "Successfully installed Bio-1.7.1 biopython-1.83 biothings-client-0.3.1 gprofiler-official-1.0.0 mygene-3.2.2\n",
            "Collecting py3Dmol\n",
            "  Downloading py3Dmol-2.1.0-py2.py3-none-any.whl (12 kB)\n",
            "Installing collected packages: py3Dmol\n",
            "Successfully installed py3Dmol-2.1.0\n"
          ]
        }
      ]
    },
    {
      "cell_type": "code",
      "execution_count": null,
      "metadata": {
        "id": "filwaT8POlMI"
      },
      "outputs": [],
      "source": [
        "# Load libraries\n",
        "\n",
        "import pandas as pd\n",
        "import numpy as np\n",
        "from Bio import SeqIO\n",
        "from Bio.Seq import Seq\n",
        "from Bio.SeqRecord import SeqRecord\n",
        "import altair as alta\n",
        "import py3Dmol"
      ]
    },
    {
      "cell_type": "code",
      "source": [
        "# Read data\n",
        "\n",
        "def read_fasta(file_path):\n",
        "  records = {}\n",
        "  for record in SeqIO.parse(file_path, \"fasta\"):\n",
        "    records[record.id] = record\n",
        "  return records\n",
        "\n",
        "def read_genbank(file_path):\n",
        "  records = {}\n",
        "  with open(file_path, \"r\") as handle:\n",
        "    for record in SeqIO.parse(handle, \"genbank\"):\n",
        "      records[record.name] = record\n",
        "  return records\n",
        "\n",
        "reference_genome = read_fasta(\"Cal09_genome_reference.fa\")\n",
        "consensus_sequence = read_fasta(\"138B10-C8_masked_consensus.fa\")\n",
        "high_freq_variants = pd.read_csv(\"138B10-C8_high_freq_variants.txt\", sep=\"\\t\", dtype={'CHROM': str})\n",
        "low_freq_variants = pd.read_csv(\"138B10-C8_low_freq_variants.txt\", sep=\"\\t\", dtype={'CHROM': str})\n",
        "reference_annotation = read_genbank(\"Cal09_reference_annotation.txt\")\n",
        "consensus_annotation = read_genbank(\"138B10-C8_consensus_annotation.txt\")\n",
        "\n",
        "high_freq_variants['CHROM'] = high_freq_variants['CHROM'].fillna('NA')\n",
        "low_freq_variants['CHROM'] = low_freq_variants['CHROM'].fillna('NA')\n",
        "\n",
        "print(\"Reference Genome Segments:\", reference_genome.keys())\n",
        "print(\"Consensus Genome Segments:\", consensus_sequence.keys())\n",
        "print(\"Reference Annotation Segments:\", reference_annotation.keys())\n",
        "print(\"Consensus Annotation Segments:\", consensus_annotation.keys())\n"
      ],
      "metadata": {
        "colab": {
          "base_uri": "https://localhost:8080/"
        },
        "id": "yPSnZD8NPb83",
        "outputId": "27300878-6a1c-44b8-d0a9-e10824116a4d"
      },
      "execution_count": null,
      "outputs": [
        {
          "output_type": "stream",
          "name": "stdout",
          "text": [
            "Reference Genome Segments: dict_keys(['PB2', 'PB1', 'PA', 'HA', 'NP', 'NA', 'M', 'NS'])\n",
            "Consensus Genome Segments: dict_keys(['PB2', 'PB1', 'PA', 'HA', 'NP', 'NA', 'M', 'NS'])\n",
            "Reference Annotation Segments: dict_keys(['NC_026438', 'NC_026435', 'NC_026437', 'NC_026433', 'NC_026436', 'NC_026434', 'NC_026431', 'NC_026432'])\n",
            "Consensus Annotation Segments: dict_keys(['PB2', 'PB1', 'PA', 'HA', 'NP', 'NA', 'M', 'NS'])\n"
          ]
        }
      ]
    },
    {
      "cell_type": "code",
      "source": [
        "# Identify mutations\n",
        "\n",
        "def identify_mutations(reference, consensus):\n",
        "  mutations = {}\n",
        "  for segment in reference.keys():\n",
        "    ref_seq = reference[segment].seq\n",
        "    cons_seq = consensus[segment].seq\n",
        "    segment_mutations = []\n",
        "    for i, (ref_nt, cons_nt) in enumerate(zip(ref_seq, cons_seq)):\n",
        "      if ref_nt != cons_nt:\n",
        "        segment_mutations.append((i+1, ref_nt, cons_nt))\n",
        "    mutations[segment] = segment_mutations\n",
        "  return mutations\n",
        "\n",
        "mutations = identify_mutations(reference_genome, consensus_sequence)\n",
        "\n",
        "mutation_set = {f\"{seg}_{pos}_{ref}_{alt}\" for seg, muts in mutations.items() for pos, ref, alt in muts}\n",
        "\n",
        "def filter_high_freq_mutations(mutations, high_freq_variants):\n",
        "  high_freq_set = set()\n",
        "  for index, row in high_freq_variants.iterrows():\n",
        "    if row['HF CLASS'] == 'ALT':\n",
        "      chrom = str(row['CHROM'])\n",
        "      mutation_key = f\"{row['CHROM']}_{row['POS']}_{row['REF']}_{row['ALT'].split(',')[0]}\"\n",
        "      if mutation_key not in mutations:\n",
        "        high_freq_set.add((chrom, row['POS'], row['REF'], row['ALT'].split(',')[0]))\n",
        "  return high_freq_set\n",
        "\n",
        "filtered_high_freq_mutations = filter_high_freq_mutations(mutation_set, high_freq_variants)\n",
        "\n",
        "def filter_low_freq_mutations(mutations, low_freq_variants):\n",
        "  low_freq_set = set()\n",
        "  for index, row in low_freq_variants.iterrows():\n",
        "    if row['2HF CLASS'] == 'ALT':\n",
        "      chrom = str(row['CHROM'])\n",
        "      mutation_key = f\"{row['CHROM']}_{row['POS']}_{row['REF']}_{row['ALT'].split(',')[0]}\"\n",
        "      if mutation_key not in mutations:\n",
        "        low_freq_set.add((chrom, row['POS'], row['REF'], row['ALT'].split(',')[0]))\n",
        "  return low_freq_set\n",
        "\n",
        "filtered_low_freq_mutations = filter_low_freq_mutations(mutation_set, low_freq_variants)\n",
        "\n",
        "print(\"Identified mutations between reference and consensus sequences:\")\n",
        "for segment, muts in mutations.items():\n",
        "  print(f\"{segment}: {muts}\")\n",
        "\n",
        "print(\"\\nHigh-frequency mutations that did not pass filter:\")\n",
        "print(filtered_high_freq_mutations)\n",
        "\n",
        "print(\"\\nLow-frequency mutations detected in sample mixture:\")\n",
        "print(filtered_low_freq_mutations)"
      ],
      "metadata": {
        "colab": {
          "base_uri": "https://localhost:8080/"
        },
        "id": "2krTBXAgVvtk",
        "outputId": "668e5a02-fd75-460f-d9b9-7d15bff0e1a8"
      },
      "execution_count": null,
      "outputs": [
        {
          "output_type": "stream",
          "name": "stdout",
          "text": [
            "Identified mutations between reference and consensus sequences:\n",
            "PB2: [(8, 'G', 'A'), (1445, 'A', 'G'), (1757, 'A', 'G'), (2172, 'G', 'A')]\n",
            "PB1: [(708, 'A', 'G'), (1758, 'G', 'A')]\n",
            "PA: [(1658, 'C', 'G')]\n",
            "HA: [(598, 'T', 'C'), (622, 'C', 'A'), (640, 'G', 'A'), (715, 'G', 'A')]\n",
            "NP: [(365, 'T', 'A'), (919, 'C', 'A')]\n",
            "NA: []\n",
            "M: []\n",
            "NS: [(375, 'A', 'G')]\n",
            "\n",
            "High-frequency mutations that did not pass filter:\n",
            "set()\n",
            "\n",
            "Low-frequency mutations detected in sample mixture:\n",
            "{('PA', 1898, 'T', 'G'), ('PA', 2112, 'A', 'T'), ('M', 669, 'T', 'C'), ('PB1', 475, 'G', 'A'), ('PA', 2070, 'C', 'T'), ('NP', 90, 'A', 'G')}\n"
          ]
        }
      ]
    },
    {
      "cell_type": "code",
      "source": [
        "# Visualize mutations\n",
        "\n",
        "mutations_list = []\n",
        "for segment, muts in mutations.items():\n",
        "  for pos, ref, alt in muts:\n",
        "    mutations_list.append([segment, pos, ref, alt, 'Dominant'])\n",
        "\n",
        "low_freq_list = []\n",
        "for seg, pos, ref, alt in filtered_low_freq_mutations:\n",
        "  low_freq_list.append([seg, pos, ref, alt, 'Low Frequency'])\n",
        "\n",
        "mutations_df = pd.DataFrame(mutations_list + low_freq_list, columns=['Segment', 'Position', 'Ref', 'Alt', 'Frequency'])\n",
        "\n",
        "segment_lengths = {segment: len(reference_genome[segment].seq) for segment in reference_genome.keys()}\n",
        "segment_lines = pd.DataFrame([(segment, 1, length) for segment, length in segment_lengths.items()],\n",
        "                             columns=['Segment', 'Start', 'End'])\n",
        "\n",
        "segment_order = ['PB2', 'PB1', 'PA', 'HA', 'NP', 'NA', 'M', 'NS']\n",
        "\n",
        "base = alta.Chart(mutations_df).encode(\n",
        "    x='Position:Q',\n",
        "    y=alta.Y('Segment:N', sort=segment_order),\n",
        "    tooltip=['Segment', 'Position', 'Ref', 'Alt', 'Frequency']\n",
        ")\n",
        "\n",
        "dom_chart = base.mark_tick(color='#6BC38A', thickness=2, size=30, orient='vertical').transform_filter(\n",
        "    alta.datum.Frequency == 'Dominant'\n",
        ")\n",
        "\n",
        "low_freq_chart = base.mark_tick(color='#6BC38A', thickness=2, size=30, orient='vertical', opacity=0.25).transform_filter(\n",
        "    alta.datum.Frequency == 'Low Frequency'\n",
        ")\n",
        "\n",
        "segment_line_chart = alta.Chart(segment_lines).mark_rule(color='#436574').encode(\n",
        "    x='Start:Q',\n",
        "    x2='End:Q',\n",
        "    y=alta.Y('Segment:N', sort=segment_order),\n",
        "    size=alta.value(2)\n",
        ")\n",
        "\n",
        "final_chart = segment_line_chart + dom_chart + low_freq_chart\n",
        "\n",
        "final_chart.properties(\n",
        "    title='Nucleotide Mutations',\n",
        "    width=1200,\n",
        "    height=300\n",
        ").configure_title(\n",
        "    fontSize=16,\n",
        "    fontWeight='normal',\n",
        "    anchor='middle',\n",
        "    color='#999999',\n",
        "    font='Arial'\n",
        ").configure_axis(\n",
        "    labelFontSize=12,\n",
        "    titleFontSize=14,\n",
        "    labelFont='Arial',\n",
        "    titleFont='Arial',\n",
        "    titleFontWeight='normal',\n",
        "    labelFontWeight='normal',\n",
        "    titleColor='#999999',\n",
        "    labelColor='#999999',\n",
        "    grid=False,\n",
        "    domain=False\n",
        ").interactive()\n",
        "\n"
      ],
      "metadata": {
        "colab": {
          "base_uri": "https://localhost:8080/",
          "height": 407
        },
        "id": "5ZeEDAvDi6rJ",
        "outputId": "2536507f-c034-42f5-c05f-633a37106e72"
      },
      "execution_count": null,
      "outputs": [
        {
          "output_type": "execute_result",
          "data": {
            "text/html": [
              "\n",
              "<div id=\"altair-viz-2a25ab7f03c547baac7546c19de02995\"></div>\n",
              "<script type=\"text/javascript\">\n",
              "  var VEGA_DEBUG = (typeof VEGA_DEBUG == \"undefined\") ? {} : VEGA_DEBUG;\n",
              "  (function(spec, embedOpt){\n",
              "    let outputDiv = document.currentScript.previousElementSibling;\n",
              "    if (outputDiv.id !== \"altair-viz-2a25ab7f03c547baac7546c19de02995\") {\n",
              "      outputDiv = document.getElementById(\"altair-viz-2a25ab7f03c547baac7546c19de02995\");\n",
              "    }\n",
              "    const paths = {\n",
              "      \"vega\": \"https://cdn.jsdelivr.net/npm//vega@5?noext\",\n",
              "      \"vega-lib\": \"https://cdn.jsdelivr.net/npm//vega-lib?noext\",\n",
              "      \"vega-lite\": \"https://cdn.jsdelivr.net/npm//vega-lite@4.17.0?noext\",\n",
              "      \"vega-embed\": \"https://cdn.jsdelivr.net/npm//vega-embed@6?noext\",\n",
              "    };\n",
              "\n",
              "    function maybeLoadScript(lib, version) {\n",
              "      var key = `${lib.replace(\"-\", \"\")}_version`;\n",
              "      return (VEGA_DEBUG[key] == version) ?\n",
              "        Promise.resolve(paths[lib]) :\n",
              "        new Promise(function(resolve, reject) {\n",
              "          var s = document.createElement('script');\n",
              "          document.getElementsByTagName(\"head\")[0].appendChild(s);\n",
              "          s.async = true;\n",
              "          s.onload = () => {\n",
              "            VEGA_DEBUG[key] = version;\n",
              "            return resolve(paths[lib]);\n",
              "          };\n",
              "          s.onerror = () => reject(`Error loading script: ${paths[lib]}`);\n",
              "          s.src = paths[lib];\n",
              "        });\n",
              "    }\n",
              "\n",
              "    function showError(err) {\n",
              "      outputDiv.innerHTML = `<div class=\"error\" style=\"color:red;\">${err}</div>`;\n",
              "      throw err;\n",
              "    }\n",
              "\n",
              "    function displayChart(vegaEmbed) {\n",
              "      vegaEmbed(outputDiv, spec, embedOpt)\n",
              "        .catch(err => showError(`Javascript Error: ${err.message}<br>This usually means there's a typo in your chart specification. See the javascript console for the full traceback.`));\n",
              "    }\n",
              "\n",
              "    if(typeof define === \"function\" && define.amd) {\n",
              "      requirejs.config({paths});\n",
              "      require([\"vega-embed\"], displayChart, err => showError(`Error loading script: ${err.message}`));\n",
              "    } else {\n",
              "      maybeLoadScript(\"vega\", \"5\")\n",
              "        .then(() => maybeLoadScript(\"vega-lite\", \"4.17.0\"))\n",
              "        .then(() => maybeLoadScript(\"vega-embed\", \"6\"))\n",
              "        .catch(showError)\n",
              "        .then(() => displayChart(vegaEmbed));\n",
              "    }\n",
              "  })({\"config\": {\"view\": {\"continuousWidth\": 400, \"continuousHeight\": 300}, \"axis\": {\"domain\": false, \"grid\": false, \"labelColor\": \"#999999\", \"labelFont\": \"Arial\", \"labelFontSize\": 12, \"labelFontWeight\": \"normal\", \"titleColor\": \"#999999\", \"titleFont\": \"Arial\", \"titleFontSize\": 14, \"titleFontWeight\": \"normal\"}, \"title\": {\"anchor\": \"middle\", \"color\": \"#999999\", \"font\": \"Arial\", \"fontSize\": 16, \"fontWeight\": \"normal\"}}, \"layer\": [{\"data\": {\"name\": \"data-920d323c64d01d5fe07b730af8cfd42a\"}, \"mark\": {\"type\": \"rule\", \"color\": \"#436574\"}, \"encoding\": {\"size\": {\"value\": 2}, \"x\": {\"field\": \"Start\", \"type\": \"quantitative\"}, \"x2\": {\"field\": \"End\"}, \"y\": {\"field\": \"Segment\", \"sort\": [\"PB2\", \"PB1\", \"PA\", \"HA\", \"NP\", \"NA\", \"M\", \"NS\"], \"type\": \"nominal\"}}, \"selection\": {\"selector018\": {\"type\": \"interval\", \"bind\": \"scales\", \"encodings\": [\"x\", \"y\"]}}}, {\"data\": {\"name\": \"data-4156d0f34bfe5908ce8e4c1b4d624d63\"}, \"mark\": {\"type\": \"tick\", \"color\": \"#6BC38A\", \"orient\": \"vertical\", \"size\": 30, \"thickness\": 2}, \"encoding\": {\"tooltip\": [{\"field\": \"Segment\", \"type\": \"nominal\"}, {\"field\": \"Position\", \"type\": \"quantitative\"}, {\"field\": \"Ref\", \"type\": \"nominal\"}, {\"field\": \"Alt\", \"type\": \"nominal\"}, {\"field\": \"Frequency\", \"type\": \"nominal\"}], \"x\": {\"field\": \"Position\", \"type\": \"quantitative\"}, \"y\": {\"field\": \"Segment\", \"sort\": [\"PB2\", \"PB1\", \"PA\", \"HA\", \"NP\", \"NA\", \"M\", \"NS\"], \"type\": \"nominal\"}}, \"transform\": [{\"filter\": \"(datum.Frequency === 'Dominant')\"}]}, {\"data\": {\"name\": \"data-4156d0f34bfe5908ce8e4c1b4d624d63\"}, \"mark\": {\"type\": \"tick\", \"color\": \"#6BC38A\", \"opacity\": 0.25, \"orient\": \"vertical\", \"size\": 30, \"thickness\": 2}, \"encoding\": {\"tooltip\": [{\"field\": \"Segment\", \"type\": \"nominal\"}, {\"field\": \"Position\", \"type\": \"quantitative\"}, {\"field\": \"Ref\", \"type\": \"nominal\"}, {\"field\": \"Alt\", \"type\": \"nominal\"}, {\"field\": \"Frequency\", \"type\": \"nominal\"}], \"x\": {\"field\": \"Position\", \"type\": \"quantitative\"}, \"y\": {\"field\": \"Segment\", \"sort\": [\"PB2\", \"PB1\", \"PA\", \"HA\", \"NP\", \"NA\", \"M\", \"NS\"], \"type\": \"nominal\"}}, \"transform\": [{\"filter\": \"(datum.Frequency === 'Low Frequency')\"}]}], \"height\": 300, \"title\": \"Nucleotide Mutations\", \"width\": 1200, \"$schema\": \"https://vega.github.io/schema/vega-lite/v4.17.0.json\", \"datasets\": {\"data-920d323c64d01d5fe07b730af8cfd42a\": [{\"Segment\": \"PB2\", \"Start\": 1, \"End\": 2280}, {\"Segment\": \"PB1\", \"Start\": 1, \"End\": 2274}, {\"Segment\": \"PA\", \"Start\": 1, \"End\": 2151}, {\"Segment\": \"HA\", \"Start\": 1, \"End\": 1701}, {\"Segment\": \"NP\", \"Start\": 1, \"End\": 1497}, {\"Segment\": \"NA\", \"Start\": 1, \"End\": 1410}, {\"Segment\": \"M\", \"Start\": 1, \"End\": 982}, {\"Segment\": \"NS\", \"Start\": 1, \"End\": 863}], \"data-4156d0f34bfe5908ce8e4c1b4d624d63\": [{\"Segment\": \"PB2\", \"Position\": 8, \"Ref\": \"G\", \"Alt\": \"A\", \"Frequency\": \"Dominant\"}, {\"Segment\": \"PB2\", \"Position\": 1445, \"Ref\": \"A\", \"Alt\": \"G\", \"Frequency\": \"Dominant\"}, {\"Segment\": \"PB2\", \"Position\": 1757, \"Ref\": \"A\", \"Alt\": \"G\", \"Frequency\": \"Dominant\"}, {\"Segment\": \"PB2\", \"Position\": 2172, \"Ref\": \"G\", \"Alt\": \"A\", \"Frequency\": \"Dominant\"}, {\"Segment\": \"PB1\", \"Position\": 708, \"Ref\": \"A\", \"Alt\": \"G\", \"Frequency\": \"Dominant\"}, {\"Segment\": \"PB1\", \"Position\": 1758, \"Ref\": \"G\", \"Alt\": \"A\", \"Frequency\": \"Dominant\"}, {\"Segment\": \"PA\", \"Position\": 1658, \"Ref\": \"C\", \"Alt\": \"G\", \"Frequency\": \"Dominant\"}, {\"Segment\": \"HA\", \"Position\": 598, \"Ref\": \"T\", \"Alt\": \"C\", \"Frequency\": \"Dominant\"}, {\"Segment\": \"HA\", \"Position\": 622, \"Ref\": \"C\", \"Alt\": \"A\", \"Frequency\": \"Dominant\"}, {\"Segment\": \"HA\", \"Position\": 640, \"Ref\": \"G\", \"Alt\": \"A\", \"Frequency\": \"Dominant\"}, {\"Segment\": \"HA\", \"Position\": 715, \"Ref\": \"G\", \"Alt\": \"A\", \"Frequency\": \"Dominant\"}, {\"Segment\": \"NP\", \"Position\": 365, \"Ref\": \"T\", \"Alt\": \"A\", \"Frequency\": \"Dominant\"}, {\"Segment\": \"NP\", \"Position\": 919, \"Ref\": \"C\", \"Alt\": \"A\", \"Frequency\": \"Dominant\"}, {\"Segment\": \"NS\", \"Position\": 375, \"Ref\": \"A\", \"Alt\": \"G\", \"Frequency\": \"Dominant\"}, {\"Segment\": \"PA\", \"Position\": 1898, \"Ref\": \"T\", \"Alt\": \"G\", \"Frequency\": \"Low Frequency\"}, {\"Segment\": \"PA\", \"Position\": 2112, \"Ref\": \"A\", \"Alt\": \"T\", \"Frequency\": \"Low Frequency\"}, {\"Segment\": \"M\", \"Position\": 669, \"Ref\": \"T\", \"Alt\": \"C\", \"Frequency\": \"Low Frequency\"}, {\"Segment\": \"PB1\", \"Position\": 475, \"Ref\": \"G\", \"Alt\": \"A\", \"Frequency\": \"Low Frequency\"}, {\"Segment\": \"PA\", \"Position\": 2070, \"Ref\": \"C\", \"Alt\": \"T\", \"Frequency\": \"Low Frequency\"}, {\"Segment\": \"NP\", \"Position\": 90, \"Ref\": \"A\", \"Alt\": \"G\", \"Frequency\": \"Low Frequency\"}]}}, {\"mode\": \"vega-lite\"});\n",
              "</script>"
            ],
            "text/plain": [
              "alt.LayerChart(...)"
            ]
          },
          "metadata": {},
          "execution_count": 87
        }
      ]
    },
    {
      "cell_type": "code",
      "source": [
        "final_chart.save('138B10-C8_mutations.html')"
      ],
      "metadata": {
        "id": "HxexpeMds3jb"
      },
      "execution_count": null,
      "outputs": []
    },
    {
      "cell_type": "code",
      "source": [
        "# Annotate protein changes\n",
        "\n",
        "def extract_protein_sequences(annotation):\n",
        "  protein_sequences = {}\n",
        "  for record in annotation.values():\n",
        "    for feature in record.features:\n",
        "      if feature.type =='CDS':\n",
        "        protein_id = feature.qualifiers.get('gene', [''])[0]\n",
        "        protein_sequence = feature.qualifiers.get('translation', [''])[0]\n",
        "        if protein_id:\n",
        "          protein_sequences[protein_id] = protein_sequence\n",
        "  return protein_sequences\n",
        "\n",
        "reference_proteins = extract_protein_sequences(reference_annotation)\n",
        "consensus_proteins = extract_protein_sequences(consensus_annotation)\n",
        "\n",
        "def compare_protein_sequences(ref_proteins, cons_proteins):\n",
        "  protein_changes = []\n",
        "  for protein_id, ref_seq in ref_proteins.items():\n",
        "    cons_seq = cons_proteins.get(protein_id, '')\n",
        "    if not cons_seq:\n",
        "      continue\n",
        "    for i, (ref_aa, cons_aa) in enumerate(zip(ref_seq, cons_seq), start=1):\n",
        "      if ref_aa != cons_aa:\n",
        "        protein_changes.append([protein_id, i, ref_aa, cons_aa])\n",
        "  return protein_changes\n",
        "\n",
        "protein_changes = compare_protein_sequences(reference_proteins, consensus_proteins)\n",
        "protein_changes_df = pd.DataFrame(protein_changes, columns=['Protein', 'Position', 'Ref_aa', 'Alt_aa'])\n",
        "\n",
        "print(protein_changes_df)"
      ],
      "metadata": {
        "colab": {
          "base_uri": "https://localhost:8080/"
        },
        "id": "uULe60zCJhJa",
        "outputId": "ee72beaa-42a7-4db4-c4d6-ee41891e1d56"
      },
      "execution_count": null,
      "outputs": [
        {
          "output_type": "stream",
          "name": "stdout",
          "text": [
            "  Protein  Position Ref_aa Alt_aa\n",
            "0     PB2         3      R      K\n",
            "1     PB2       482      K      R\n",
            "2     PB2       586      K      R\n",
            "3      PA       553      A      G\n",
            "4      HA       200      S      P\n",
            "5      HA       208      L      I\n",
            "6      HA       214      A      T\n",
            "7      NP       122      L      Q\n",
            "8      NP       307      L      I\n"
          ]
        }
      ]
    },
    {
      "cell_type": "code",
      "source": [
        "# Visualize protein changes\n",
        "\n",
        "protein_lengths = {protein: len(seq) for protein, seq in reference_proteins.items()}\n",
        "segment_lines = pd.DataFrame([(protein, 1, length) for protein, length in protein_lengths.items()],\n",
        "                             columns=['Protein', 'Start', 'End'])\n",
        "\n",
        "protein_order = ['PB2', 'PB1', 'PA', 'PA-X', 'HA', 'NP', 'NA', 'M2', 'M1', 'NEP', 'NS1']\n",
        "\n",
        "base_protein = alta.Chart(protein_changes_df).encode(\n",
        "    x='Position:Q',\n",
        "    y=alta.Y('Protein:N', sort=protein_order),\n",
        "    tooltip=['Protein', 'Position', 'Ref_aa', 'Alt_aa']\n",
        ")\n",
        "\n",
        "protein_chart = base_protein.mark_tick(color='#436574', thickness=2, size=30, orient='vertical')\n",
        "\n",
        "segment_line_chart = alta.Chart(segment_lines).mark_rule(color='#6BC38A').encode(\n",
        "    x='Start:Q',\n",
        "    x2='End:Q',\n",
        "    y=alta.Y('Protein:N', sort=protein_order),\n",
        "    size=alta.value(2)\n",
        ")\n",
        "\n",
        "final_protein_chart = segment_line_chart + protein_chart\n",
        "\n",
        "final_protein_chart.properties(\n",
        "    title='Amino Acid Changes',\n",
        "    width=1200,\n",
        "    height=300\n",
        ").configure_title(\n",
        "    fontSize=16,\n",
        "    fontWeight='normal',\n",
        "    anchor='middle',\n",
        "    color='#999999',\n",
        "    font='Arial'\n",
        ").configure_axis(\n",
        "    labelFontSize=12,\n",
        "    titleFontSize=14,\n",
        "    labelFont='Arial',\n",
        "    titleFont='Arial',\n",
        "    titleFontWeight='normal',\n",
        "    labelFontWeight='normal',\n",
        "    titleColor='#999999',\n",
        "    labelColor='#999999',\n",
        "    grid=False,\n",
        "    domain=False\n",
        ").interactive()"
      ],
      "metadata": {
        "colab": {
          "base_uri": "https://localhost:8080/",
          "height": 407
        },
        "id": "l5pKuSqczwfp",
        "outputId": "b0e5be86-0cff-41e9-91d1-5604177ec1d1"
      },
      "execution_count": null,
      "outputs": [
        {
          "output_type": "execute_result",
          "data": {
            "text/html": [
              "\n",
              "<div id=\"altair-viz-c97a19d912324538a01a3e5deefd0483\"></div>\n",
              "<script type=\"text/javascript\">\n",
              "  var VEGA_DEBUG = (typeof VEGA_DEBUG == \"undefined\") ? {} : VEGA_DEBUG;\n",
              "  (function(spec, embedOpt){\n",
              "    let outputDiv = document.currentScript.previousElementSibling;\n",
              "    if (outputDiv.id !== \"altair-viz-c97a19d912324538a01a3e5deefd0483\") {\n",
              "      outputDiv = document.getElementById(\"altair-viz-c97a19d912324538a01a3e5deefd0483\");\n",
              "    }\n",
              "    const paths = {\n",
              "      \"vega\": \"https://cdn.jsdelivr.net/npm//vega@5?noext\",\n",
              "      \"vega-lib\": \"https://cdn.jsdelivr.net/npm//vega-lib?noext\",\n",
              "      \"vega-lite\": \"https://cdn.jsdelivr.net/npm//vega-lite@4.17.0?noext\",\n",
              "      \"vega-embed\": \"https://cdn.jsdelivr.net/npm//vega-embed@6?noext\",\n",
              "    };\n",
              "\n",
              "    function maybeLoadScript(lib, version) {\n",
              "      var key = `${lib.replace(\"-\", \"\")}_version`;\n",
              "      return (VEGA_DEBUG[key] == version) ?\n",
              "        Promise.resolve(paths[lib]) :\n",
              "        new Promise(function(resolve, reject) {\n",
              "          var s = document.createElement('script');\n",
              "          document.getElementsByTagName(\"head\")[0].appendChild(s);\n",
              "          s.async = true;\n",
              "          s.onload = () => {\n",
              "            VEGA_DEBUG[key] = version;\n",
              "            return resolve(paths[lib]);\n",
              "          };\n",
              "          s.onerror = () => reject(`Error loading script: ${paths[lib]}`);\n",
              "          s.src = paths[lib];\n",
              "        });\n",
              "    }\n",
              "\n",
              "    function showError(err) {\n",
              "      outputDiv.innerHTML = `<div class=\"error\" style=\"color:red;\">${err}</div>`;\n",
              "      throw err;\n",
              "    }\n",
              "\n",
              "    function displayChart(vegaEmbed) {\n",
              "      vegaEmbed(outputDiv, spec, embedOpt)\n",
              "        .catch(err => showError(`Javascript Error: ${err.message}<br>This usually means there's a typo in your chart specification. See the javascript console for the full traceback.`));\n",
              "    }\n",
              "\n",
              "    if(typeof define === \"function\" && define.amd) {\n",
              "      requirejs.config({paths});\n",
              "      require([\"vega-embed\"], displayChart, err => showError(`Error loading script: ${err.message}`));\n",
              "    } else {\n",
              "      maybeLoadScript(\"vega\", \"5\")\n",
              "        .then(() => maybeLoadScript(\"vega-lite\", \"4.17.0\"))\n",
              "        .then(() => maybeLoadScript(\"vega-embed\", \"6\"))\n",
              "        .catch(showError)\n",
              "        .then(() => displayChart(vegaEmbed));\n",
              "    }\n",
              "  })({\"config\": {\"view\": {\"continuousWidth\": 400, \"continuousHeight\": 300}, \"axis\": {\"domain\": false, \"grid\": false, \"labelColor\": \"#999999\", \"labelFont\": \"Arial\", \"labelFontSize\": 12, \"labelFontWeight\": \"normal\", \"titleColor\": \"#999999\", \"titleFont\": \"Arial\", \"titleFontSize\": 14, \"titleFontWeight\": \"normal\"}, \"title\": {\"anchor\": \"middle\", \"color\": \"#999999\", \"font\": \"Arial\", \"fontSize\": 16, \"fontWeight\": \"normal\"}}, \"layer\": [{\"data\": {\"name\": \"data-43fdf4118fcc9a82f703b6d7ce1e7b07\"}, \"mark\": {\"type\": \"rule\", \"color\": \"#6BC38A\"}, \"encoding\": {\"size\": {\"value\": 2}, \"x\": {\"field\": \"Start\", \"type\": \"quantitative\"}, \"x2\": {\"field\": \"End\"}, \"y\": {\"field\": \"Protein\", \"sort\": [\"PB2\", \"PB1\", \"PA\", \"PA-X\", \"HA\", \"NP\", \"NA\", \"M2\", \"M1\", \"NEP\", \"NS1\"], \"type\": \"nominal\"}}, \"selection\": {\"selector019\": {\"type\": \"interval\", \"bind\": \"scales\", \"encodings\": [\"x\", \"y\"]}}}, {\"data\": {\"name\": \"data-3ead298c4b2e2122a621a396c0b1a825\"}, \"mark\": {\"type\": \"tick\", \"color\": \"#436574\", \"orient\": \"vertical\", \"size\": 30, \"thickness\": 2}, \"encoding\": {\"tooltip\": [{\"field\": \"Protein\", \"type\": \"nominal\"}, {\"field\": \"Position\", \"type\": \"quantitative\"}, {\"field\": \"Ref_aa\", \"type\": \"nominal\"}, {\"field\": \"Alt_aa\", \"type\": \"nominal\"}], \"x\": {\"field\": \"Position\", \"type\": \"quantitative\"}, \"y\": {\"field\": \"Protein\", \"sort\": [\"PB2\", \"PB1\", \"PA\", \"PA-X\", \"HA\", \"NP\", \"NA\", \"M2\", \"M1\", \"NEP\", \"NS1\"], \"type\": \"nominal\"}}}], \"height\": 300, \"title\": \"Amino Acid Changes\", \"width\": 1200, \"$schema\": \"https://vega.github.io/schema/vega-lite/v4.17.0.json\", \"datasets\": {\"data-43fdf4118fcc9a82f703b6d7ce1e7b07\": [{\"Protein\": \"PB2\", \"Start\": 1, \"End\": 759}, {\"Protein\": \"PB1\", \"Start\": 1, \"End\": 757}, {\"Protein\": \"PA\", \"Start\": 1, \"End\": 716}, {\"Protein\": \"PA-X\", \"Start\": 1, \"End\": 232}, {\"Protein\": \"HA\", \"Start\": 1, \"End\": 566}, {\"Protein\": \"NP\", \"Start\": 1, \"End\": 498}, {\"Protein\": \"NA\", \"Start\": 1, \"End\": 469}, {\"Protein\": \"M2\", \"Start\": 1, \"End\": 97}, {\"Protein\": \"M1\", \"Start\": 1, \"End\": 252}, {\"Protein\": \"NEP\", \"Start\": 1, \"End\": 121}, {\"Protein\": \"NS1\", \"Start\": 1, \"End\": 219}], \"data-3ead298c4b2e2122a621a396c0b1a825\": [{\"Protein\": \"PB2\", \"Position\": 3, \"Ref_aa\": \"R\", \"Alt_aa\": \"K\"}, {\"Protein\": \"PB2\", \"Position\": 482, \"Ref_aa\": \"K\", \"Alt_aa\": \"R\"}, {\"Protein\": \"PB2\", \"Position\": 586, \"Ref_aa\": \"K\", \"Alt_aa\": \"R\"}, {\"Protein\": \"PA\", \"Position\": 553, \"Ref_aa\": \"A\", \"Alt_aa\": \"G\"}, {\"Protein\": \"HA\", \"Position\": 200, \"Ref_aa\": \"S\", \"Alt_aa\": \"P\"}, {\"Protein\": \"HA\", \"Position\": 208, \"Ref_aa\": \"L\", \"Alt_aa\": \"I\"}, {\"Protein\": \"HA\", \"Position\": 214, \"Ref_aa\": \"A\", \"Alt_aa\": \"T\"}, {\"Protein\": \"NP\", \"Position\": 122, \"Ref_aa\": \"L\", \"Alt_aa\": \"Q\"}, {\"Protein\": \"NP\", \"Position\": 307, \"Ref_aa\": \"L\", \"Alt_aa\": \"I\"}]}}, {\"mode\": \"vega-lite\"});\n",
              "</script>"
            ],
            "text/plain": [
              "alt.LayerChart(...)"
            ]
          },
          "metadata": {},
          "execution_count": 90
        }
      ]
    },
    {
      "cell_type": "code",
      "source": [
        "final_protein_chart.save('138B10-C8_AA.html')"
      ],
      "metadata": {
        "id": "0zYL_OyeaFpJ"
      },
      "execution_count": null,
      "outputs": []
    },
    {
      "cell_type": "code",
      "source": [
        "# Visualize protein structure\n",
        "\n",
        "#Cal09\n",
        "pdb_ids = {\n",
        "    'PB2': '3CW4',\n",
        "    'PB1': '3AIG',\n",
        "    'PA': '2ZNL',\n",
        "    'HA': '3LZG',\n",
        "    'NP': '2Q06',\n",
        "    'NA': '3NSS',\n",
        "    'M2': '2K1H',\n",
        "    'M1': '1EA3',\n",
        "    'NEP': '1PD3',\n",
        "    'NS1': '3EU6'\n",
        "}\n",
        "\n",
        "#PR8\n",
        "#pdb_ids = {\n",
        "#    'PB2': '6QNW',\n",
        "#    'PB1': '3AIG',\n",
        "#    'PA': '6QPF',\n",
        "#    'HA': '1RVX',\n",
        "#    'NP': '2YMN',\n",
        "#    'NA': '3CYE',\n",
        "#    'M2': '2K1H',\n",
        "#    'M1': '7JM3',\n",
        "#    'NEP': '1PD3',\n",
        "#    'NS1': '5NT2'\n",
        "#}\n",
        "\n",
        "def visualize_protein_structure(protein, pdb_id, changes):\n",
        "  view = py3Dmol.view(query='pdb:' + pdb_id)\n",
        "  view.setStyle({'cartoon': {'color': 'spectrum'}})\n",
        "\n",
        "  for change in changes:\n",
        "    pos, ref_aa, alt_aa = change\n",
        "    label = f'{ref_aa}{pos}{alt_aa}'\n",
        "    view.addStyle({'resi': str(pos)}, {'stick': {'colorscheme': 'redCarbon'}})\n",
        "    view.addLabel(label, {'fontColor':'white', 'backgroundColor':'black'}, {'resi': str(pos)})\n",
        "\n",
        "  view.zoomTo()\n",
        "  view.show()\n",
        "\n",
        "for protein, pdb_id in pdb_ids.items():\n",
        "  changes = protein_changes_df[protein_changes_df['Protein'] == protein][['Position', 'Ref_aa', 'Alt_aa']].values\n",
        "  visualize_protein_structure(protein, pdb_id, changes)"
      ],
      "metadata": {
        "colab": {
          "base_uri": "https://localhost:8080/",
          "height": 1000
        },
        "id": "8ut0qb9Pmalm",
        "outputId": "3462b58b-5b3f-4391-a9f3-49318e024682"
      },
      "execution_count": null,
      "outputs": [
        {
          "output_type": "display_data",
          "data": {
            "application/3dmoljs_load.v0": "<div id=\"3dmolviewer_1719359650145472\"  style=\"position: relative; width: 640px; height: 480px;\">\n        <p id=\"3dmolwarning_1719359650145472\" style=\"background-color:#ffcccc;color:black\">3Dmol.js failed to load for some reason.  Please check your browser console for error messages.<br></p>\n        </div>\n<script>\n\nvar loadScriptAsync = function(uri){\n  return new Promise((resolve, reject) => {\n    //this is to ignore the existence of requirejs amd\n    var savedexports, savedmodule;\n    if (typeof exports !== 'undefined') savedexports = exports;\n    else exports = {}\n    if (typeof module !== 'undefined') savedmodule = module;\n    else module = {}\n\n    var tag = document.createElement('script');\n    tag.src = uri;\n    tag.async = true;\n    tag.onload = () => {\n        exports = savedexports;\n        module = savedmodule;\n        resolve();\n    };\n  var firstScriptTag = document.getElementsByTagName('script')[0];\n  firstScriptTag.parentNode.insertBefore(tag, firstScriptTag);\n});\n};\n\nif(typeof $3Dmolpromise === 'undefined') {\n$3Dmolpromise = null;\n  $3Dmolpromise = loadScriptAsync('https://cdnjs.cloudflare.com/ajax/libs/3Dmol/2.1.0/3Dmol-min.js');\n}\n\nvar viewer_1719359650145472 = null;\nvar warn = document.getElementById(\"3dmolwarning_1719359650145472\");\nif(warn) {\n    warn.parentNode.removeChild(warn);\n}\n$3Dmolpromise.then(function() {\nviewer_1719359650145472 = $3Dmol.createViewer(document.getElementById(\"3dmolviewer_1719359650145472\"),{backgroundColor:\"white\"});\n$3Dmol.download(\"pdb:3CW4\", viewer_1719359650145472, {}, function() {\nviewer_1719359650145472.zoomTo();\n\tviewer_1719359650145472.setStyle({\"cartoon\": {\"color\": \"spectrum\"}});\n\tviewer_1719359650145472.addStyle({\"resi\": \"3\"},{\"stick\": {\"colorscheme\": \"redCarbon\"}});\n\tviewer_1719359650145472.addLabel(\"R3K\",{\"fontColor\": \"white\", \"backgroundColor\": \"black\"},{\"resi\": \"3\"});\n\tviewer_1719359650145472.addStyle({\"resi\": \"482\"},{\"stick\": {\"colorscheme\": \"redCarbon\"}});\n\tviewer_1719359650145472.addLabel(\"K482R\",{\"fontColor\": \"white\", \"backgroundColor\": \"black\"},{\"resi\": \"482\"});\n\tviewer_1719359650145472.addStyle({\"resi\": \"586\"},{\"stick\": {\"colorscheme\": \"redCarbon\"}});\n\tviewer_1719359650145472.addLabel(\"K586R\",{\"fontColor\": \"white\", \"backgroundColor\": \"black\"},{\"resi\": \"586\"});\n\tviewer_1719359650145472.zoomTo();\nviewer_1719359650145472.render();\n})\n});\n</script>",
            "text/html": [
              "<div id=\"3dmolviewer_1719359650145472\"  style=\"position: relative; width: 640px; height: 480px;\">\n",
              "        <p id=\"3dmolwarning_1719359650145472\" style=\"background-color:#ffcccc;color:black\">3Dmol.js failed to load for some reason.  Please check your browser console for error messages.<br></p>\n",
              "        </div>\n",
              "<script>\n",
              "\n",
              "var loadScriptAsync = function(uri){\n",
              "  return new Promise((resolve, reject) => {\n",
              "    //this is to ignore the existence of requirejs amd\n",
              "    var savedexports, savedmodule;\n",
              "    if (typeof exports !== 'undefined') savedexports = exports;\n",
              "    else exports = {}\n",
              "    if (typeof module !== 'undefined') savedmodule = module;\n",
              "    else module = {}\n",
              "\n",
              "    var tag = document.createElement('script');\n",
              "    tag.src = uri;\n",
              "    tag.async = true;\n",
              "    tag.onload = () => {\n",
              "        exports = savedexports;\n",
              "        module = savedmodule;\n",
              "        resolve();\n",
              "    };\n",
              "  var firstScriptTag = document.getElementsByTagName('script')[0];\n",
              "  firstScriptTag.parentNode.insertBefore(tag, firstScriptTag);\n",
              "});\n",
              "};\n",
              "\n",
              "if(typeof $3Dmolpromise === 'undefined') {\n",
              "$3Dmolpromise = null;\n",
              "  $3Dmolpromise = loadScriptAsync('https://cdnjs.cloudflare.com/ajax/libs/3Dmol/2.1.0/3Dmol-min.js');\n",
              "}\n",
              "\n",
              "var viewer_1719359650145472 = null;\n",
              "var warn = document.getElementById(\"3dmolwarning_1719359650145472\");\n",
              "if(warn) {\n",
              "    warn.parentNode.removeChild(warn);\n",
              "}\n",
              "$3Dmolpromise.then(function() {\n",
              "viewer_1719359650145472 = $3Dmol.createViewer(document.getElementById(\"3dmolviewer_1719359650145472\"),{backgroundColor:\"white\"});\n",
              "$3Dmol.download(\"pdb:3CW4\", viewer_1719359650145472, {}, function() {\n",
              "viewer_1719359650145472.zoomTo();\n",
              "\tviewer_1719359650145472.setStyle({\"cartoon\": {\"color\": \"spectrum\"}});\n",
              "\tviewer_1719359650145472.addStyle({\"resi\": \"3\"},{\"stick\": {\"colorscheme\": \"redCarbon\"}});\n",
              "\tviewer_1719359650145472.addLabel(\"R3K\",{\"fontColor\": \"white\", \"backgroundColor\": \"black\"},{\"resi\": \"3\"});\n",
              "\tviewer_1719359650145472.addStyle({\"resi\": \"482\"},{\"stick\": {\"colorscheme\": \"redCarbon\"}});\n",
              "\tviewer_1719359650145472.addLabel(\"K482R\",{\"fontColor\": \"white\", \"backgroundColor\": \"black\"},{\"resi\": \"482\"});\n",
              "\tviewer_1719359650145472.addStyle({\"resi\": \"586\"},{\"stick\": {\"colorscheme\": \"redCarbon\"}});\n",
              "\tviewer_1719359650145472.addLabel(\"K586R\",{\"fontColor\": \"white\", \"backgroundColor\": \"black\"},{\"resi\": \"586\"});\n",
              "\tviewer_1719359650145472.zoomTo();\n",
              "viewer_1719359650145472.render();\n",
              "})\n",
              "});\n",
              "</script>"
            ]
          },
          "metadata": {}
        },
        {
          "output_type": "display_data",
          "data": {
            "application/3dmoljs_load.v0": "<div id=\"3dmolviewer_17193596501498845\"  style=\"position: relative; width: 640px; height: 480px;\">\n        <p id=\"3dmolwarning_17193596501498845\" style=\"background-color:#ffcccc;color:black\">3Dmol.js failed to load for some reason.  Please check your browser console for error messages.<br></p>\n        </div>\n<script>\n\nvar loadScriptAsync = function(uri){\n  return new Promise((resolve, reject) => {\n    //this is to ignore the existence of requirejs amd\n    var savedexports, savedmodule;\n    if (typeof exports !== 'undefined') savedexports = exports;\n    else exports = {}\n    if (typeof module !== 'undefined') savedmodule = module;\n    else module = {}\n\n    var tag = document.createElement('script');\n    tag.src = uri;\n    tag.async = true;\n    tag.onload = () => {\n        exports = savedexports;\n        module = savedmodule;\n        resolve();\n    };\n  var firstScriptTag = document.getElementsByTagName('script')[0];\n  firstScriptTag.parentNode.insertBefore(tag, firstScriptTag);\n});\n};\n\nif(typeof $3Dmolpromise === 'undefined') {\n$3Dmolpromise = null;\n  $3Dmolpromise = loadScriptAsync('https://cdnjs.cloudflare.com/ajax/libs/3Dmol/2.1.0/3Dmol-min.js');\n}\n\nvar viewer_17193596501498845 = null;\nvar warn = document.getElementById(\"3dmolwarning_17193596501498845\");\nif(warn) {\n    warn.parentNode.removeChild(warn);\n}\n$3Dmolpromise.then(function() {\nviewer_17193596501498845 = $3Dmol.createViewer(document.getElementById(\"3dmolviewer_17193596501498845\"),{backgroundColor:\"white\"});\n$3Dmol.download(\"pdb:3AIG\", viewer_17193596501498845, {}, function() {\nviewer_17193596501498845.zoomTo();\n\tviewer_17193596501498845.setStyle({\"cartoon\": {\"color\": \"spectrum\"}});\n\tviewer_17193596501498845.zoomTo();\nviewer_17193596501498845.render();\n})\n});\n</script>",
            "text/html": [
              "<div id=\"3dmolviewer_17193596501498845\"  style=\"position: relative; width: 640px; height: 480px;\">\n",
              "        <p id=\"3dmolwarning_17193596501498845\" style=\"background-color:#ffcccc;color:black\">3Dmol.js failed to load for some reason.  Please check your browser console for error messages.<br></p>\n",
              "        </div>\n",
              "<script>\n",
              "\n",
              "var loadScriptAsync = function(uri){\n",
              "  return new Promise((resolve, reject) => {\n",
              "    //this is to ignore the existence of requirejs amd\n",
              "    var savedexports, savedmodule;\n",
              "    if (typeof exports !== 'undefined') savedexports = exports;\n",
              "    else exports = {}\n",
              "    if (typeof module !== 'undefined') savedmodule = module;\n",
              "    else module = {}\n",
              "\n",
              "    var tag = document.createElement('script');\n",
              "    tag.src = uri;\n",
              "    tag.async = true;\n",
              "    tag.onload = () => {\n",
              "        exports = savedexports;\n",
              "        module = savedmodule;\n",
              "        resolve();\n",
              "    };\n",
              "  var firstScriptTag = document.getElementsByTagName('script')[0];\n",
              "  firstScriptTag.parentNode.insertBefore(tag, firstScriptTag);\n",
              "});\n",
              "};\n",
              "\n",
              "if(typeof $3Dmolpromise === 'undefined') {\n",
              "$3Dmolpromise = null;\n",
              "  $3Dmolpromise = loadScriptAsync('https://cdnjs.cloudflare.com/ajax/libs/3Dmol/2.1.0/3Dmol-min.js');\n",
              "}\n",
              "\n",
              "var viewer_17193596501498845 = null;\n",
              "var warn = document.getElementById(\"3dmolwarning_17193596501498845\");\n",
              "if(warn) {\n",
              "    warn.parentNode.removeChild(warn);\n",
              "}\n",
              "$3Dmolpromise.then(function() {\n",
              "viewer_17193596501498845 = $3Dmol.createViewer(document.getElementById(\"3dmolviewer_17193596501498845\"),{backgroundColor:\"white\"});\n",
              "$3Dmol.download(\"pdb:3AIG\", viewer_17193596501498845, {}, function() {\n",
              "viewer_17193596501498845.zoomTo();\n",
              "\tviewer_17193596501498845.setStyle({\"cartoon\": {\"color\": \"spectrum\"}});\n",
              "\tviewer_17193596501498845.zoomTo();\n",
              "viewer_17193596501498845.render();\n",
              "})\n",
              "});\n",
              "</script>"
            ]
          },
          "metadata": {}
        },
        {
          "output_type": "display_data",
          "data": {
            "application/3dmoljs_load.v0": "<div id=\"3dmolviewer_17193596501538875\"  style=\"position: relative; width: 640px; height: 480px;\">\n        <p id=\"3dmolwarning_17193596501538875\" style=\"background-color:#ffcccc;color:black\">3Dmol.js failed to load for some reason.  Please check your browser console for error messages.<br></p>\n        </div>\n<script>\n\nvar loadScriptAsync = function(uri){\n  return new Promise((resolve, reject) => {\n    //this is to ignore the existence of requirejs amd\n    var savedexports, savedmodule;\n    if (typeof exports !== 'undefined') savedexports = exports;\n    else exports = {}\n    if (typeof module !== 'undefined') savedmodule = module;\n    else module = {}\n\n    var tag = document.createElement('script');\n    tag.src = uri;\n    tag.async = true;\n    tag.onload = () => {\n        exports = savedexports;\n        module = savedmodule;\n        resolve();\n    };\n  var firstScriptTag = document.getElementsByTagName('script')[0];\n  firstScriptTag.parentNode.insertBefore(tag, firstScriptTag);\n});\n};\n\nif(typeof $3Dmolpromise === 'undefined') {\n$3Dmolpromise = null;\n  $3Dmolpromise = loadScriptAsync('https://cdnjs.cloudflare.com/ajax/libs/3Dmol/2.1.0/3Dmol-min.js');\n}\n\nvar viewer_17193596501538875 = null;\nvar warn = document.getElementById(\"3dmolwarning_17193596501538875\");\nif(warn) {\n    warn.parentNode.removeChild(warn);\n}\n$3Dmolpromise.then(function() {\nviewer_17193596501538875 = $3Dmol.createViewer(document.getElementById(\"3dmolviewer_17193596501538875\"),{backgroundColor:\"white\"});\n$3Dmol.download(\"pdb:2ZNL\", viewer_17193596501538875, {}, function() {\nviewer_17193596501538875.zoomTo();\n\tviewer_17193596501538875.setStyle({\"cartoon\": {\"color\": \"spectrum\"}});\n\tviewer_17193596501538875.addStyle({\"resi\": \"553\"},{\"stick\": {\"colorscheme\": \"redCarbon\"}});\n\tviewer_17193596501538875.addLabel(\"A553G\",{\"fontColor\": \"white\", \"backgroundColor\": \"black\"},{\"resi\": \"553\"});\n\tviewer_17193596501538875.zoomTo();\nviewer_17193596501538875.render();\n})\n});\n</script>",
            "text/html": [
              "<div id=\"3dmolviewer_17193596501538875\"  style=\"position: relative; width: 640px; height: 480px;\">\n",
              "        <p id=\"3dmolwarning_17193596501538875\" style=\"background-color:#ffcccc;color:black\">3Dmol.js failed to load for some reason.  Please check your browser console for error messages.<br></p>\n",
              "        </div>\n",
              "<script>\n",
              "\n",
              "var loadScriptAsync = function(uri){\n",
              "  return new Promise((resolve, reject) => {\n",
              "    //this is to ignore the existence of requirejs amd\n",
              "    var savedexports, savedmodule;\n",
              "    if (typeof exports !== 'undefined') savedexports = exports;\n",
              "    else exports = {}\n",
              "    if (typeof module !== 'undefined') savedmodule = module;\n",
              "    else module = {}\n",
              "\n",
              "    var tag = document.createElement('script');\n",
              "    tag.src = uri;\n",
              "    tag.async = true;\n",
              "    tag.onload = () => {\n",
              "        exports = savedexports;\n",
              "        module = savedmodule;\n",
              "        resolve();\n",
              "    };\n",
              "  var firstScriptTag = document.getElementsByTagName('script')[0];\n",
              "  firstScriptTag.parentNode.insertBefore(tag, firstScriptTag);\n",
              "});\n",
              "};\n",
              "\n",
              "if(typeof $3Dmolpromise === 'undefined') {\n",
              "$3Dmolpromise = null;\n",
              "  $3Dmolpromise = loadScriptAsync('https://cdnjs.cloudflare.com/ajax/libs/3Dmol/2.1.0/3Dmol-min.js');\n",
              "}\n",
              "\n",
              "var viewer_17193596501538875 = null;\n",
              "var warn = document.getElementById(\"3dmolwarning_17193596501538875\");\n",
              "if(warn) {\n",
              "    warn.parentNode.removeChild(warn);\n",
              "}\n",
              "$3Dmolpromise.then(function() {\n",
              "viewer_17193596501538875 = $3Dmol.createViewer(document.getElementById(\"3dmolviewer_17193596501538875\"),{backgroundColor:\"white\"});\n",
              "$3Dmol.download(\"pdb:2ZNL\", viewer_17193596501538875, {}, function() {\n",
              "viewer_17193596501538875.zoomTo();\n",
              "\tviewer_17193596501538875.setStyle({\"cartoon\": {\"color\": \"spectrum\"}});\n",
              "\tviewer_17193596501538875.addStyle({\"resi\": \"553\"},{\"stick\": {\"colorscheme\": \"redCarbon\"}});\n",
              "\tviewer_17193596501538875.addLabel(\"A553G\",{\"fontColor\": \"white\", \"backgroundColor\": \"black\"},{\"resi\": \"553\"});\n",
              "\tviewer_17193596501538875.zoomTo();\n",
              "viewer_17193596501538875.render();\n",
              "})\n",
              "});\n",
              "</script>"
            ]
          },
          "metadata": {}
        },
        {
          "output_type": "display_data",
          "data": {
            "application/3dmoljs_load.v0": "<div id=\"3dmolviewer_17193596501610208\"  style=\"position: relative; width: 640px; height: 480px;\">\n        <p id=\"3dmolwarning_17193596501610208\" style=\"background-color:#ffcccc;color:black\">3Dmol.js failed to load for some reason.  Please check your browser console for error messages.<br></p>\n        </div>\n<script>\n\nvar loadScriptAsync = function(uri){\n  return new Promise((resolve, reject) => {\n    //this is to ignore the existence of requirejs amd\n    var savedexports, savedmodule;\n    if (typeof exports !== 'undefined') savedexports = exports;\n    else exports = {}\n    if (typeof module !== 'undefined') savedmodule = module;\n    else module = {}\n\n    var tag = document.createElement('script');\n    tag.src = uri;\n    tag.async = true;\n    tag.onload = () => {\n        exports = savedexports;\n        module = savedmodule;\n        resolve();\n    };\n  var firstScriptTag = document.getElementsByTagName('script')[0];\n  firstScriptTag.parentNode.insertBefore(tag, firstScriptTag);\n});\n};\n\nif(typeof $3Dmolpromise === 'undefined') {\n$3Dmolpromise = null;\n  $3Dmolpromise = loadScriptAsync('https://cdnjs.cloudflare.com/ajax/libs/3Dmol/2.1.0/3Dmol-min.js');\n}\n\nvar viewer_17193596501610208 = null;\nvar warn = document.getElementById(\"3dmolwarning_17193596501610208\");\nif(warn) {\n    warn.parentNode.removeChild(warn);\n}\n$3Dmolpromise.then(function() {\nviewer_17193596501610208 = $3Dmol.createViewer(document.getElementById(\"3dmolviewer_17193596501610208\"),{backgroundColor:\"white\"});\n$3Dmol.download(\"pdb:3LZG\", viewer_17193596501610208, {}, function() {\nviewer_17193596501610208.zoomTo();\n\tviewer_17193596501610208.setStyle({\"cartoon\": {\"color\": \"spectrum\"}});\n\tviewer_17193596501610208.addStyle({\"resi\": \"200\"},{\"stick\": {\"colorscheme\": \"redCarbon\"}});\n\tviewer_17193596501610208.addLabel(\"S200P\",{\"fontColor\": \"white\", \"backgroundColor\": \"black\"},{\"resi\": \"200\"});\n\tviewer_17193596501610208.addStyle({\"resi\": \"208\"},{\"stick\": {\"colorscheme\": \"redCarbon\"}});\n\tviewer_17193596501610208.addLabel(\"L208I\",{\"fontColor\": \"white\", \"backgroundColor\": \"black\"},{\"resi\": \"208\"});\n\tviewer_17193596501610208.addStyle({\"resi\": \"214\"},{\"stick\": {\"colorscheme\": \"redCarbon\"}});\n\tviewer_17193596501610208.addLabel(\"A214T\",{\"fontColor\": \"white\", \"backgroundColor\": \"black\"},{\"resi\": \"214\"});\n\tviewer_17193596501610208.zoomTo();\nviewer_17193596501610208.render();\n})\n});\n</script>",
            "text/html": [
              "<div id=\"3dmolviewer_17193596501610208\"  style=\"position: relative; width: 640px; height: 480px;\">\n",
              "        <p id=\"3dmolwarning_17193596501610208\" style=\"background-color:#ffcccc;color:black\">3Dmol.js failed to load for some reason.  Please check your browser console for error messages.<br></p>\n",
              "        </div>\n",
              "<script>\n",
              "\n",
              "var loadScriptAsync = function(uri){\n",
              "  return new Promise((resolve, reject) => {\n",
              "    //this is to ignore the existence of requirejs amd\n",
              "    var savedexports, savedmodule;\n",
              "    if (typeof exports !== 'undefined') savedexports = exports;\n",
              "    else exports = {}\n",
              "    if (typeof module !== 'undefined') savedmodule = module;\n",
              "    else module = {}\n",
              "\n",
              "    var tag = document.createElement('script');\n",
              "    tag.src = uri;\n",
              "    tag.async = true;\n",
              "    tag.onload = () => {\n",
              "        exports = savedexports;\n",
              "        module = savedmodule;\n",
              "        resolve();\n",
              "    };\n",
              "  var firstScriptTag = document.getElementsByTagName('script')[0];\n",
              "  firstScriptTag.parentNode.insertBefore(tag, firstScriptTag);\n",
              "});\n",
              "};\n",
              "\n",
              "if(typeof $3Dmolpromise === 'undefined') {\n",
              "$3Dmolpromise = null;\n",
              "  $3Dmolpromise = loadScriptAsync('https://cdnjs.cloudflare.com/ajax/libs/3Dmol/2.1.0/3Dmol-min.js');\n",
              "}\n",
              "\n",
              "var viewer_17193596501610208 = null;\n",
              "var warn = document.getElementById(\"3dmolwarning_17193596501610208\");\n",
              "if(warn) {\n",
              "    warn.parentNode.removeChild(warn);\n",
              "}\n",
              "$3Dmolpromise.then(function() {\n",
              "viewer_17193596501610208 = $3Dmol.createViewer(document.getElementById(\"3dmolviewer_17193596501610208\"),{backgroundColor:\"white\"});\n",
              "$3Dmol.download(\"pdb:3LZG\", viewer_17193596501610208, {}, function() {\n",
              "viewer_17193596501610208.zoomTo();\n",
              "\tviewer_17193596501610208.setStyle({\"cartoon\": {\"color\": \"spectrum\"}});\n",
              "\tviewer_17193596501610208.addStyle({\"resi\": \"200\"},{\"stick\": {\"colorscheme\": \"redCarbon\"}});\n",
              "\tviewer_17193596501610208.addLabel(\"S200P\",{\"fontColor\": \"white\", \"backgroundColor\": \"black\"},{\"resi\": \"200\"});\n",
              "\tviewer_17193596501610208.addStyle({\"resi\": \"208\"},{\"stick\": {\"colorscheme\": \"redCarbon\"}});\n",
              "\tviewer_17193596501610208.addLabel(\"L208I\",{\"fontColor\": \"white\", \"backgroundColor\": \"black\"},{\"resi\": \"208\"});\n",
              "\tviewer_17193596501610208.addStyle({\"resi\": \"214\"},{\"stick\": {\"colorscheme\": \"redCarbon\"}});\n",
              "\tviewer_17193596501610208.addLabel(\"A214T\",{\"fontColor\": \"white\", \"backgroundColor\": \"black\"},{\"resi\": \"214\"});\n",
              "\tviewer_17193596501610208.zoomTo();\n",
              "viewer_17193596501610208.render();\n",
              "})\n",
              "});\n",
              "</script>"
            ]
          },
          "metadata": {}
        },
        {
          "output_type": "display_data",
          "data": {
            "application/3dmoljs_load.v0": "<div id=\"3dmolviewer_1719359650165406\"  style=\"position: relative; width: 640px; height: 480px;\">\n        <p id=\"3dmolwarning_1719359650165406\" style=\"background-color:#ffcccc;color:black\">3Dmol.js failed to load for some reason.  Please check your browser console for error messages.<br></p>\n        </div>\n<script>\n\nvar loadScriptAsync = function(uri){\n  return new Promise((resolve, reject) => {\n    //this is to ignore the existence of requirejs amd\n    var savedexports, savedmodule;\n    if (typeof exports !== 'undefined') savedexports = exports;\n    else exports = {}\n    if (typeof module !== 'undefined') savedmodule = module;\n    else module = {}\n\n    var tag = document.createElement('script');\n    tag.src = uri;\n    tag.async = true;\n    tag.onload = () => {\n        exports = savedexports;\n        module = savedmodule;\n        resolve();\n    };\n  var firstScriptTag = document.getElementsByTagName('script')[0];\n  firstScriptTag.parentNode.insertBefore(tag, firstScriptTag);\n});\n};\n\nif(typeof $3Dmolpromise === 'undefined') {\n$3Dmolpromise = null;\n  $3Dmolpromise = loadScriptAsync('https://cdnjs.cloudflare.com/ajax/libs/3Dmol/2.1.0/3Dmol-min.js');\n}\n\nvar viewer_1719359650165406 = null;\nvar warn = document.getElementById(\"3dmolwarning_1719359650165406\");\nif(warn) {\n    warn.parentNode.removeChild(warn);\n}\n$3Dmolpromise.then(function() {\nviewer_1719359650165406 = $3Dmol.createViewer(document.getElementById(\"3dmolviewer_1719359650165406\"),{backgroundColor:\"white\"});\n$3Dmol.download(\"pdb:2Q06\", viewer_1719359650165406, {}, function() {\nviewer_1719359650165406.zoomTo();\n\tviewer_1719359650165406.setStyle({\"cartoon\": {\"color\": \"spectrum\"}});\n\tviewer_1719359650165406.addStyle({\"resi\": \"122\"},{\"stick\": {\"colorscheme\": \"redCarbon\"}});\n\tviewer_1719359650165406.addLabel(\"L122Q\",{\"fontColor\": \"white\", \"backgroundColor\": \"black\"},{\"resi\": \"122\"});\n\tviewer_1719359650165406.addStyle({\"resi\": \"307\"},{\"stick\": {\"colorscheme\": \"redCarbon\"}});\n\tviewer_1719359650165406.addLabel(\"L307I\",{\"fontColor\": \"white\", \"backgroundColor\": \"black\"},{\"resi\": \"307\"});\n\tviewer_1719359650165406.zoomTo();\nviewer_1719359650165406.render();\n})\n});\n</script>",
            "text/html": [
              "<div id=\"3dmolviewer_1719359650165406\"  style=\"position: relative; width: 640px; height: 480px;\">\n",
              "        <p id=\"3dmolwarning_1719359650165406\" style=\"background-color:#ffcccc;color:black\">3Dmol.js failed to load for some reason.  Please check your browser console for error messages.<br></p>\n",
              "        </div>\n",
              "<script>\n",
              "\n",
              "var loadScriptAsync = function(uri){\n",
              "  return new Promise((resolve, reject) => {\n",
              "    //this is to ignore the existence of requirejs amd\n",
              "    var savedexports, savedmodule;\n",
              "    if (typeof exports !== 'undefined') savedexports = exports;\n",
              "    else exports = {}\n",
              "    if (typeof module !== 'undefined') savedmodule = module;\n",
              "    else module = {}\n",
              "\n",
              "    var tag = document.createElement('script');\n",
              "    tag.src = uri;\n",
              "    tag.async = true;\n",
              "    tag.onload = () => {\n",
              "        exports = savedexports;\n",
              "        module = savedmodule;\n",
              "        resolve();\n",
              "    };\n",
              "  var firstScriptTag = document.getElementsByTagName('script')[0];\n",
              "  firstScriptTag.parentNode.insertBefore(tag, firstScriptTag);\n",
              "});\n",
              "};\n",
              "\n",
              "if(typeof $3Dmolpromise === 'undefined') {\n",
              "$3Dmolpromise = null;\n",
              "  $3Dmolpromise = loadScriptAsync('https://cdnjs.cloudflare.com/ajax/libs/3Dmol/2.1.0/3Dmol-min.js');\n",
              "}\n",
              "\n",
              "var viewer_1719359650165406 = null;\n",
              "var warn = document.getElementById(\"3dmolwarning_1719359650165406\");\n",
              "if(warn) {\n",
              "    warn.parentNode.removeChild(warn);\n",
              "}\n",
              "$3Dmolpromise.then(function() {\n",
              "viewer_1719359650165406 = $3Dmol.createViewer(document.getElementById(\"3dmolviewer_1719359650165406\"),{backgroundColor:\"white\"});\n",
              "$3Dmol.download(\"pdb:2Q06\", viewer_1719359650165406, {}, function() {\n",
              "viewer_1719359650165406.zoomTo();\n",
              "\tviewer_1719359650165406.setStyle({\"cartoon\": {\"color\": \"spectrum\"}});\n",
              "\tviewer_1719359650165406.addStyle({\"resi\": \"122\"},{\"stick\": {\"colorscheme\": \"redCarbon\"}});\n",
              "\tviewer_1719359650165406.addLabel(\"L122Q\",{\"fontColor\": \"white\", \"backgroundColor\": \"black\"},{\"resi\": \"122\"});\n",
              "\tviewer_1719359650165406.addStyle({\"resi\": \"307\"},{\"stick\": {\"colorscheme\": \"redCarbon\"}});\n",
              "\tviewer_1719359650165406.addLabel(\"L307I\",{\"fontColor\": \"white\", \"backgroundColor\": \"black\"},{\"resi\": \"307\"});\n",
              "\tviewer_1719359650165406.zoomTo();\n",
              "viewer_1719359650165406.render();\n",
              "})\n",
              "});\n",
              "</script>"
            ]
          },
          "metadata": {}
        },
        {
          "output_type": "display_data",
          "data": {
            "application/3dmoljs_load.v0": "<div id=\"3dmolviewer_17193596501698189\"  style=\"position: relative; width: 640px; height: 480px;\">\n        <p id=\"3dmolwarning_17193596501698189\" style=\"background-color:#ffcccc;color:black\">3Dmol.js failed to load for some reason.  Please check your browser console for error messages.<br></p>\n        </div>\n<script>\n\nvar loadScriptAsync = function(uri){\n  return new Promise((resolve, reject) => {\n    //this is to ignore the existence of requirejs amd\n    var savedexports, savedmodule;\n    if (typeof exports !== 'undefined') savedexports = exports;\n    else exports = {}\n    if (typeof module !== 'undefined') savedmodule = module;\n    else module = {}\n\n    var tag = document.createElement('script');\n    tag.src = uri;\n    tag.async = true;\n    tag.onload = () => {\n        exports = savedexports;\n        module = savedmodule;\n        resolve();\n    };\n  var firstScriptTag = document.getElementsByTagName('script')[0];\n  firstScriptTag.parentNode.insertBefore(tag, firstScriptTag);\n});\n};\n\nif(typeof $3Dmolpromise === 'undefined') {\n$3Dmolpromise = null;\n  $3Dmolpromise = loadScriptAsync('https://cdnjs.cloudflare.com/ajax/libs/3Dmol/2.1.0/3Dmol-min.js');\n}\n\nvar viewer_17193596501698189 = null;\nvar warn = document.getElementById(\"3dmolwarning_17193596501698189\");\nif(warn) {\n    warn.parentNode.removeChild(warn);\n}\n$3Dmolpromise.then(function() {\nviewer_17193596501698189 = $3Dmol.createViewer(document.getElementById(\"3dmolviewer_17193596501698189\"),{backgroundColor:\"white\"});\n$3Dmol.download(\"pdb:3NSS\", viewer_17193596501698189, {}, function() {\nviewer_17193596501698189.zoomTo();\n\tviewer_17193596501698189.setStyle({\"cartoon\": {\"color\": \"spectrum\"}});\n\tviewer_17193596501698189.zoomTo();\nviewer_17193596501698189.render();\n})\n});\n</script>",
            "text/html": [
              "<div id=\"3dmolviewer_17193596501698189\"  style=\"position: relative; width: 640px; height: 480px;\">\n",
              "        <p id=\"3dmolwarning_17193596501698189\" style=\"background-color:#ffcccc;color:black\">3Dmol.js failed to load for some reason.  Please check your browser console for error messages.<br></p>\n",
              "        </div>\n",
              "<script>\n",
              "\n",
              "var loadScriptAsync = function(uri){\n",
              "  return new Promise((resolve, reject) => {\n",
              "    //this is to ignore the existence of requirejs amd\n",
              "    var savedexports, savedmodule;\n",
              "    if (typeof exports !== 'undefined') savedexports = exports;\n",
              "    else exports = {}\n",
              "    if (typeof module !== 'undefined') savedmodule = module;\n",
              "    else module = {}\n",
              "\n",
              "    var tag = document.createElement('script');\n",
              "    tag.src = uri;\n",
              "    tag.async = true;\n",
              "    tag.onload = () => {\n",
              "        exports = savedexports;\n",
              "        module = savedmodule;\n",
              "        resolve();\n",
              "    };\n",
              "  var firstScriptTag = document.getElementsByTagName('script')[0];\n",
              "  firstScriptTag.parentNode.insertBefore(tag, firstScriptTag);\n",
              "});\n",
              "};\n",
              "\n",
              "if(typeof $3Dmolpromise === 'undefined') {\n",
              "$3Dmolpromise = null;\n",
              "  $3Dmolpromise = loadScriptAsync('https://cdnjs.cloudflare.com/ajax/libs/3Dmol/2.1.0/3Dmol-min.js');\n",
              "}\n",
              "\n",
              "var viewer_17193596501698189 = null;\n",
              "var warn = document.getElementById(\"3dmolwarning_17193596501698189\");\n",
              "if(warn) {\n",
              "    warn.parentNode.removeChild(warn);\n",
              "}\n",
              "$3Dmolpromise.then(function() {\n",
              "viewer_17193596501698189 = $3Dmol.createViewer(document.getElementById(\"3dmolviewer_17193596501698189\"),{backgroundColor:\"white\"});\n",
              "$3Dmol.download(\"pdb:3NSS\", viewer_17193596501698189, {}, function() {\n",
              "viewer_17193596501698189.zoomTo();\n",
              "\tviewer_17193596501698189.setStyle({\"cartoon\": {\"color\": \"spectrum\"}});\n",
              "\tviewer_17193596501698189.zoomTo();\n",
              "viewer_17193596501698189.render();\n",
              "})\n",
              "});\n",
              "</script>"
            ]
          },
          "metadata": {}
        },
        {
          "output_type": "display_data",
          "data": {
            "application/3dmoljs_load.v0": "<div id=\"3dmolviewer_17193596501737027\"  style=\"position: relative; width: 640px; height: 480px;\">\n        <p id=\"3dmolwarning_17193596501737027\" style=\"background-color:#ffcccc;color:black\">3Dmol.js failed to load for some reason.  Please check your browser console for error messages.<br></p>\n        </div>\n<script>\n\nvar loadScriptAsync = function(uri){\n  return new Promise((resolve, reject) => {\n    //this is to ignore the existence of requirejs amd\n    var savedexports, savedmodule;\n    if (typeof exports !== 'undefined') savedexports = exports;\n    else exports = {}\n    if (typeof module !== 'undefined') savedmodule = module;\n    else module = {}\n\n    var tag = document.createElement('script');\n    tag.src = uri;\n    tag.async = true;\n    tag.onload = () => {\n        exports = savedexports;\n        module = savedmodule;\n        resolve();\n    };\n  var firstScriptTag = document.getElementsByTagName('script')[0];\n  firstScriptTag.parentNode.insertBefore(tag, firstScriptTag);\n});\n};\n\nif(typeof $3Dmolpromise === 'undefined') {\n$3Dmolpromise = null;\n  $3Dmolpromise = loadScriptAsync('https://cdnjs.cloudflare.com/ajax/libs/3Dmol/2.1.0/3Dmol-min.js');\n}\n\nvar viewer_17193596501737027 = null;\nvar warn = document.getElementById(\"3dmolwarning_17193596501737027\");\nif(warn) {\n    warn.parentNode.removeChild(warn);\n}\n$3Dmolpromise.then(function() {\nviewer_17193596501737027 = $3Dmol.createViewer(document.getElementById(\"3dmolviewer_17193596501737027\"),{backgroundColor:\"white\"});\n$3Dmol.download(\"pdb:2K1H\", viewer_17193596501737027, {}, function() {\nviewer_17193596501737027.zoomTo();\n\tviewer_17193596501737027.setStyle({\"cartoon\": {\"color\": \"spectrum\"}});\n\tviewer_17193596501737027.zoomTo();\nviewer_17193596501737027.render();\n})\n});\n</script>",
            "text/html": [
              "<div id=\"3dmolviewer_17193596501737027\"  style=\"position: relative; width: 640px; height: 480px;\">\n",
              "        <p id=\"3dmolwarning_17193596501737027\" style=\"background-color:#ffcccc;color:black\">3Dmol.js failed to load for some reason.  Please check your browser console for error messages.<br></p>\n",
              "        </div>\n",
              "<script>\n",
              "\n",
              "var loadScriptAsync = function(uri){\n",
              "  return new Promise((resolve, reject) => {\n",
              "    //this is to ignore the existence of requirejs amd\n",
              "    var savedexports, savedmodule;\n",
              "    if (typeof exports !== 'undefined') savedexports = exports;\n",
              "    else exports = {}\n",
              "    if (typeof module !== 'undefined') savedmodule = module;\n",
              "    else module = {}\n",
              "\n",
              "    var tag = document.createElement('script');\n",
              "    tag.src = uri;\n",
              "    tag.async = true;\n",
              "    tag.onload = () => {\n",
              "        exports = savedexports;\n",
              "        module = savedmodule;\n",
              "        resolve();\n",
              "    };\n",
              "  var firstScriptTag = document.getElementsByTagName('script')[0];\n",
              "  firstScriptTag.parentNode.insertBefore(tag, firstScriptTag);\n",
              "});\n",
              "};\n",
              "\n",
              "if(typeof $3Dmolpromise === 'undefined') {\n",
              "$3Dmolpromise = null;\n",
              "  $3Dmolpromise = loadScriptAsync('https://cdnjs.cloudflare.com/ajax/libs/3Dmol/2.1.0/3Dmol-min.js');\n",
              "}\n",
              "\n",
              "var viewer_17193596501737027 = null;\n",
              "var warn = document.getElementById(\"3dmolwarning_17193596501737027\");\n",
              "if(warn) {\n",
              "    warn.parentNode.removeChild(warn);\n",
              "}\n",
              "$3Dmolpromise.then(function() {\n",
              "viewer_17193596501737027 = $3Dmol.createViewer(document.getElementById(\"3dmolviewer_17193596501737027\"),{backgroundColor:\"white\"});\n",
              "$3Dmol.download(\"pdb:2K1H\", viewer_17193596501737027, {}, function() {\n",
              "viewer_17193596501737027.zoomTo();\n",
              "\tviewer_17193596501737027.setStyle({\"cartoon\": {\"color\": \"spectrum\"}});\n",
              "\tviewer_17193596501737027.zoomTo();\n",
              "viewer_17193596501737027.render();\n",
              "})\n",
              "});\n",
              "</script>"
            ]
          },
          "metadata": {}
        },
        {
          "output_type": "display_data",
          "data": {
            "application/3dmoljs_load.v0": "<div id=\"3dmolviewer_17193596501783898\"  style=\"position: relative; width: 640px; height: 480px;\">\n        <p id=\"3dmolwarning_17193596501783898\" style=\"background-color:#ffcccc;color:black\">3Dmol.js failed to load for some reason.  Please check your browser console for error messages.<br></p>\n        </div>\n<script>\n\nvar loadScriptAsync = function(uri){\n  return new Promise((resolve, reject) => {\n    //this is to ignore the existence of requirejs amd\n    var savedexports, savedmodule;\n    if (typeof exports !== 'undefined') savedexports = exports;\n    else exports = {}\n    if (typeof module !== 'undefined') savedmodule = module;\n    else module = {}\n\n    var tag = document.createElement('script');\n    tag.src = uri;\n    tag.async = true;\n    tag.onload = () => {\n        exports = savedexports;\n        module = savedmodule;\n        resolve();\n    };\n  var firstScriptTag = document.getElementsByTagName('script')[0];\n  firstScriptTag.parentNode.insertBefore(tag, firstScriptTag);\n});\n};\n\nif(typeof $3Dmolpromise === 'undefined') {\n$3Dmolpromise = null;\n  $3Dmolpromise = loadScriptAsync('https://cdnjs.cloudflare.com/ajax/libs/3Dmol/2.1.0/3Dmol-min.js');\n}\n\nvar viewer_17193596501783898 = null;\nvar warn = document.getElementById(\"3dmolwarning_17193596501783898\");\nif(warn) {\n    warn.parentNode.removeChild(warn);\n}\n$3Dmolpromise.then(function() {\nviewer_17193596501783898 = $3Dmol.createViewer(document.getElementById(\"3dmolviewer_17193596501783898\"),{backgroundColor:\"white\"});\n$3Dmol.download(\"pdb:1EA3\", viewer_17193596501783898, {}, function() {\nviewer_17193596501783898.zoomTo();\n\tviewer_17193596501783898.setStyle({\"cartoon\": {\"color\": \"spectrum\"}});\n\tviewer_17193596501783898.zoomTo();\nviewer_17193596501783898.render();\n})\n});\n</script>",
            "text/html": [
              "<div id=\"3dmolviewer_17193596501783898\"  style=\"position: relative; width: 640px; height: 480px;\">\n",
              "        <p id=\"3dmolwarning_17193596501783898\" style=\"background-color:#ffcccc;color:black\">3Dmol.js failed to load for some reason.  Please check your browser console for error messages.<br></p>\n",
              "        </div>\n",
              "<script>\n",
              "\n",
              "var loadScriptAsync = function(uri){\n",
              "  return new Promise((resolve, reject) => {\n",
              "    //this is to ignore the existence of requirejs amd\n",
              "    var savedexports, savedmodule;\n",
              "    if (typeof exports !== 'undefined') savedexports = exports;\n",
              "    else exports = {}\n",
              "    if (typeof module !== 'undefined') savedmodule = module;\n",
              "    else module = {}\n",
              "\n",
              "    var tag = document.createElement('script');\n",
              "    tag.src = uri;\n",
              "    tag.async = true;\n",
              "    tag.onload = () => {\n",
              "        exports = savedexports;\n",
              "        module = savedmodule;\n",
              "        resolve();\n",
              "    };\n",
              "  var firstScriptTag = document.getElementsByTagName('script')[0];\n",
              "  firstScriptTag.parentNode.insertBefore(tag, firstScriptTag);\n",
              "});\n",
              "};\n",
              "\n",
              "if(typeof $3Dmolpromise === 'undefined') {\n",
              "$3Dmolpromise = null;\n",
              "  $3Dmolpromise = loadScriptAsync('https://cdnjs.cloudflare.com/ajax/libs/3Dmol/2.1.0/3Dmol-min.js');\n",
              "}\n",
              "\n",
              "var viewer_17193596501783898 = null;\n",
              "var warn = document.getElementById(\"3dmolwarning_17193596501783898\");\n",
              "if(warn) {\n",
              "    warn.parentNode.removeChild(warn);\n",
              "}\n",
              "$3Dmolpromise.then(function() {\n",
              "viewer_17193596501783898 = $3Dmol.createViewer(document.getElementById(\"3dmolviewer_17193596501783898\"),{backgroundColor:\"white\"});\n",
              "$3Dmol.download(\"pdb:1EA3\", viewer_17193596501783898, {}, function() {\n",
              "viewer_17193596501783898.zoomTo();\n",
              "\tviewer_17193596501783898.setStyle({\"cartoon\": {\"color\": \"spectrum\"}});\n",
              "\tviewer_17193596501783898.zoomTo();\n",
              "viewer_17193596501783898.render();\n",
              "})\n",
              "});\n",
              "</script>"
            ]
          },
          "metadata": {}
        },
        {
          "output_type": "display_data",
          "data": {
            "application/3dmoljs_load.v0": "<div id=\"3dmolviewer_17193596501822915\"  style=\"position: relative; width: 640px; height: 480px;\">\n        <p id=\"3dmolwarning_17193596501822915\" style=\"background-color:#ffcccc;color:black\">3Dmol.js failed to load for some reason.  Please check your browser console for error messages.<br></p>\n        </div>\n<script>\n\nvar loadScriptAsync = function(uri){\n  return new Promise((resolve, reject) => {\n    //this is to ignore the existence of requirejs amd\n    var savedexports, savedmodule;\n    if (typeof exports !== 'undefined') savedexports = exports;\n    else exports = {}\n    if (typeof module !== 'undefined') savedmodule = module;\n    else module = {}\n\n    var tag = document.createElement('script');\n    tag.src = uri;\n    tag.async = true;\n    tag.onload = () => {\n        exports = savedexports;\n        module = savedmodule;\n        resolve();\n    };\n  var firstScriptTag = document.getElementsByTagName('script')[0];\n  firstScriptTag.parentNode.insertBefore(tag, firstScriptTag);\n});\n};\n\nif(typeof $3Dmolpromise === 'undefined') {\n$3Dmolpromise = null;\n  $3Dmolpromise = loadScriptAsync('https://cdnjs.cloudflare.com/ajax/libs/3Dmol/2.1.0/3Dmol-min.js');\n}\n\nvar viewer_17193596501822915 = null;\nvar warn = document.getElementById(\"3dmolwarning_17193596501822915\");\nif(warn) {\n    warn.parentNode.removeChild(warn);\n}\n$3Dmolpromise.then(function() {\nviewer_17193596501822915 = $3Dmol.createViewer(document.getElementById(\"3dmolviewer_17193596501822915\"),{backgroundColor:\"white\"});\n$3Dmol.download(\"pdb:1PD3\", viewer_17193596501822915, {}, function() {\nviewer_17193596501822915.zoomTo();\n\tviewer_17193596501822915.setStyle({\"cartoon\": {\"color\": \"spectrum\"}});\n\tviewer_17193596501822915.zoomTo();\nviewer_17193596501822915.render();\n})\n});\n</script>",
            "text/html": [
              "<div id=\"3dmolviewer_17193596501822915\"  style=\"position: relative; width: 640px; height: 480px;\">\n",
              "        <p id=\"3dmolwarning_17193596501822915\" style=\"background-color:#ffcccc;color:black\">3Dmol.js failed to load for some reason.  Please check your browser console for error messages.<br></p>\n",
              "        </div>\n",
              "<script>\n",
              "\n",
              "var loadScriptAsync = function(uri){\n",
              "  return new Promise((resolve, reject) => {\n",
              "    //this is to ignore the existence of requirejs amd\n",
              "    var savedexports, savedmodule;\n",
              "    if (typeof exports !== 'undefined') savedexports = exports;\n",
              "    else exports = {}\n",
              "    if (typeof module !== 'undefined') savedmodule = module;\n",
              "    else module = {}\n",
              "\n",
              "    var tag = document.createElement('script');\n",
              "    tag.src = uri;\n",
              "    tag.async = true;\n",
              "    tag.onload = () => {\n",
              "        exports = savedexports;\n",
              "        module = savedmodule;\n",
              "        resolve();\n",
              "    };\n",
              "  var firstScriptTag = document.getElementsByTagName('script')[0];\n",
              "  firstScriptTag.parentNode.insertBefore(tag, firstScriptTag);\n",
              "});\n",
              "};\n",
              "\n",
              "if(typeof $3Dmolpromise === 'undefined') {\n",
              "$3Dmolpromise = null;\n",
              "  $3Dmolpromise = loadScriptAsync('https://cdnjs.cloudflare.com/ajax/libs/3Dmol/2.1.0/3Dmol-min.js');\n",
              "}\n",
              "\n",
              "var viewer_17193596501822915 = null;\n",
              "var warn = document.getElementById(\"3dmolwarning_17193596501822915\");\n",
              "if(warn) {\n",
              "    warn.parentNode.removeChild(warn);\n",
              "}\n",
              "$3Dmolpromise.then(function() {\n",
              "viewer_17193596501822915 = $3Dmol.createViewer(document.getElementById(\"3dmolviewer_17193596501822915\"),{backgroundColor:\"white\"});\n",
              "$3Dmol.download(\"pdb:1PD3\", viewer_17193596501822915, {}, function() {\n",
              "viewer_17193596501822915.zoomTo();\n",
              "\tviewer_17193596501822915.setStyle({\"cartoon\": {\"color\": \"spectrum\"}});\n",
              "\tviewer_17193596501822915.zoomTo();\n",
              "viewer_17193596501822915.render();\n",
              "})\n",
              "});\n",
              "</script>"
            ]
          },
          "metadata": {}
        },
        {
          "output_type": "display_data",
          "data": {
            "application/3dmoljs_load.v0": "<div id=\"3dmolviewer_17193596501872253\"  style=\"position: relative; width: 640px; height: 480px;\">\n        <p id=\"3dmolwarning_17193596501872253\" style=\"background-color:#ffcccc;color:black\">3Dmol.js failed to load for some reason.  Please check your browser console for error messages.<br></p>\n        </div>\n<script>\n\nvar loadScriptAsync = function(uri){\n  return new Promise((resolve, reject) => {\n    //this is to ignore the existence of requirejs amd\n    var savedexports, savedmodule;\n    if (typeof exports !== 'undefined') savedexports = exports;\n    else exports = {}\n    if (typeof module !== 'undefined') savedmodule = module;\n    else module = {}\n\n    var tag = document.createElement('script');\n    tag.src = uri;\n    tag.async = true;\n    tag.onload = () => {\n        exports = savedexports;\n        module = savedmodule;\n        resolve();\n    };\n  var firstScriptTag = document.getElementsByTagName('script')[0];\n  firstScriptTag.parentNode.insertBefore(tag, firstScriptTag);\n});\n};\n\nif(typeof $3Dmolpromise === 'undefined') {\n$3Dmolpromise = null;\n  $3Dmolpromise = loadScriptAsync('https://cdnjs.cloudflare.com/ajax/libs/3Dmol/2.1.0/3Dmol-min.js');\n}\n\nvar viewer_17193596501872253 = null;\nvar warn = document.getElementById(\"3dmolwarning_17193596501872253\");\nif(warn) {\n    warn.parentNode.removeChild(warn);\n}\n$3Dmolpromise.then(function() {\nviewer_17193596501872253 = $3Dmol.createViewer(document.getElementById(\"3dmolviewer_17193596501872253\"),{backgroundColor:\"white\"});\n$3Dmol.download(\"pdb:3EU6\", viewer_17193596501872253, {}, function() {\nviewer_17193596501872253.zoomTo();\n\tviewer_17193596501872253.setStyle({\"cartoon\": {\"color\": \"spectrum\"}});\n\tviewer_17193596501872253.zoomTo();\nviewer_17193596501872253.render();\n})\n});\n</script>",
            "text/html": [
              "<div id=\"3dmolviewer_17193596501872253\"  style=\"position: relative; width: 640px; height: 480px;\">\n",
              "        <p id=\"3dmolwarning_17193596501872253\" style=\"background-color:#ffcccc;color:black\">3Dmol.js failed to load for some reason.  Please check your browser console for error messages.<br></p>\n",
              "        </div>\n",
              "<script>\n",
              "\n",
              "var loadScriptAsync = function(uri){\n",
              "  return new Promise((resolve, reject) => {\n",
              "    //this is to ignore the existence of requirejs amd\n",
              "    var savedexports, savedmodule;\n",
              "    if (typeof exports !== 'undefined') savedexports = exports;\n",
              "    else exports = {}\n",
              "    if (typeof module !== 'undefined') savedmodule = module;\n",
              "    else module = {}\n",
              "\n",
              "    var tag = document.createElement('script');\n",
              "    tag.src = uri;\n",
              "    tag.async = true;\n",
              "    tag.onload = () => {\n",
              "        exports = savedexports;\n",
              "        module = savedmodule;\n",
              "        resolve();\n",
              "    };\n",
              "  var firstScriptTag = document.getElementsByTagName('script')[0];\n",
              "  firstScriptTag.parentNode.insertBefore(tag, firstScriptTag);\n",
              "});\n",
              "};\n",
              "\n",
              "if(typeof $3Dmolpromise === 'undefined') {\n",
              "$3Dmolpromise = null;\n",
              "  $3Dmolpromise = loadScriptAsync('https://cdnjs.cloudflare.com/ajax/libs/3Dmol/2.1.0/3Dmol-min.js');\n",
              "}\n",
              "\n",
              "var viewer_17193596501872253 = null;\n",
              "var warn = document.getElementById(\"3dmolwarning_17193596501872253\");\n",
              "if(warn) {\n",
              "    warn.parentNode.removeChild(warn);\n",
              "}\n",
              "$3Dmolpromise.then(function() {\n",
              "viewer_17193596501872253 = $3Dmol.createViewer(document.getElementById(\"3dmolviewer_17193596501872253\"),{backgroundColor:\"white\"});\n",
              "$3Dmol.download(\"pdb:3EU6\", viewer_17193596501872253, {}, function() {\n",
              "viewer_17193596501872253.zoomTo();\n",
              "\tviewer_17193596501872253.setStyle({\"cartoon\": {\"color\": \"spectrum\"}});\n",
              "\tviewer_17193596501872253.zoomTo();\n",
              "viewer_17193596501872253.render();\n",
              "})\n",
              "});\n",
              "</script>"
            ]
          },
          "metadata": {}
        }
      ]
    },
    {
      "cell_type": "code",
      "source": [
        "# Visualize protein structure\n",
        "\n",
        "pdb_ids = {\n",
        "    'PB2': '3CW4',\n",
        "    'PB1': '3AIG',\n",
        "    'PA': '2ZNL',\n",
        "    'HA': '3LZG',\n",
        "    'NP': '2Q06',\n",
        "    'NA': '3NSS',\n",
        "    'M2': '2K1H',\n",
        "    'M1': '1EA3',\n",
        "    'NEP': '1PD3',\n",
        "    'NS1': '3EU6'\n",
        "}\n",
        "\n",
        "def visualize_protein_structure(protein, pdb_id, changes):\n",
        "  view = py3Dmol.view(query='pdb:' + pdb_id)\n",
        "  view.setStyle({'cartoon': {'color': 'spectrum'}})\n",
        "\n",
        "  for change in changes:\n",
        "    pos, ref_aa, alt_aa = change\n",
        "    label = f'{ref_aa}{pos}{alt_aa}'\n",
        "    view.addStyle({'resi': str(pos)}, {'stick': {'colorscheme': 'redCarbon'}})\n",
        "    view.addLabel(label, {'fontColor':'white', 'backgroundColor':'black'}, {'resi': str(pos)})\n",
        "\n",
        "  view.zoomTo()\n",
        "  view.render()\n",
        "  html = view._make_html()\n",
        "  with open(f'138B10-C8_{protein}_structure.html', 'w') as file:\n",
        "    file.write(html)\n",
        "\n",
        "for protein, pdb_id in pdb_ids.items():\n",
        "  changes = protein_changes_df[protein_changes_df['Protein'] == protein][['Position', 'Ref_aa', 'Alt_aa']].values\n",
        "  visualize_protein_structure(protein, pdb_id, changes)\n",
        "\n",
        "from IPython.display import display, HTML\n",
        "\n",
        "for protein in pdb_ids.keys():\n",
        "  display(HTML(f'<a href=\"138B10-C8_{protein}_structure.html\" target=\"_blank\">138B10-C8_{protein}_structure.html</a>'))\n"
      ],
      "metadata": {
        "colab": {
          "base_uri": "https://localhost:8080/",
          "height": 187
        },
        "id": "lvp228b70PYs",
        "outputId": "91240219-a40a-4834-844d-fc522a2556c8"
      },
      "execution_count": null,
      "outputs": [
        {
          "output_type": "display_data",
          "data": {
            "text/plain": [
              "<IPython.core.display.HTML object>"
            ],
            "text/html": [
              "<a href=\"138A1-X1_PB2_structure.html\" target=\"_blank\">138A1-X1_PB2_structure.html</a>"
            ]
          },
          "metadata": {}
        },
        {
          "output_type": "display_data",
          "data": {
            "text/plain": [
              "<IPython.core.display.HTML object>"
            ],
            "text/html": [
              "<a href=\"138A1-X1_PB1_structure.html\" target=\"_blank\">138A1-X1_PB1_structure.html</a>"
            ]
          },
          "metadata": {}
        },
        {
          "output_type": "display_data",
          "data": {
            "text/plain": [
              "<IPython.core.display.HTML object>"
            ],
            "text/html": [
              "<a href=\"138A1-X1_PA_structure.html\" target=\"_blank\">138A1-X1_PA_structure.html</a>"
            ]
          },
          "metadata": {}
        },
        {
          "output_type": "display_data",
          "data": {
            "text/plain": [
              "<IPython.core.display.HTML object>"
            ],
            "text/html": [
              "<a href=\"138A1-X1_HA_structure.html\" target=\"_blank\">138A1-X1_HA_structure.html</a>"
            ]
          },
          "metadata": {}
        },
        {
          "output_type": "display_data",
          "data": {
            "text/plain": [
              "<IPython.core.display.HTML object>"
            ],
            "text/html": [
              "<a href=\"138A1-X1_NP_structure.html\" target=\"_blank\">138A1-X1_NP_structure.html</a>"
            ]
          },
          "metadata": {}
        },
        {
          "output_type": "display_data",
          "data": {
            "text/plain": [
              "<IPython.core.display.HTML object>"
            ],
            "text/html": [
              "<a href=\"138A1-X1_NA_structure.html\" target=\"_blank\">138A1-X1_NA_structure.html</a>"
            ]
          },
          "metadata": {}
        },
        {
          "output_type": "display_data",
          "data": {
            "text/plain": [
              "<IPython.core.display.HTML object>"
            ],
            "text/html": [
              "<a href=\"138A1-X1_M2_structure.html\" target=\"_blank\">138A1-X1_M2_structure.html</a>"
            ]
          },
          "metadata": {}
        },
        {
          "output_type": "display_data",
          "data": {
            "text/plain": [
              "<IPython.core.display.HTML object>"
            ],
            "text/html": [
              "<a href=\"138A1-X1_M1_structure.html\" target=\"_blank\">138A1-X1_M1_structure.html</a>"
            ]
          },
          "metadata": {}
        },
        {
          "output_type": "display_data",
          "data": {
            "text/plain": [
              "<IPython.core.display.HTML object>"
            ],
            "text/html": [
              "<a href=\"138A1-X1_NEP_structure.html\" target=\"_blank\">138A1-X1_NEP_structure.html</a>"
            ]
          },
          "metadata": {}
        },
        {
          "output_type": "display_data",
          "data": {
            "text/plain": [
              "<IPython.core.display.HTML object>"
            ],
            "text/html": [
              "<a href=\"138A1-X1_NS1_structure.html\" target=\"_blank\">138A1-X1_NS1_structure.html</a>"
            ]
          },
          "metadata": {}
        }
      ]
    }
  ]
}